{
 "cells": [
  {
   "cell_type": "code",
   "execution_count": 1,
   "metadata": {},
   "outputs": [],
   "source": [
    "test_data = [\"1912\", \"1929\", \"1913-1923\",\n",
    "             \"(1951)\", \"1994\", \"1934\",\n",
    "             \"c. 1915\", \"1995\", \"c. 1912\",\n",
    "             \"(1988)\", \"2002\", \"1957-1959\",\n",
    "             \"c. 1955.\", \"c. 1970's\", \n",
    "             \"C. 1990-1999\"]\n",
    "\n",
    "bad_chars = [\"(\",\")\",\"c\",\"C\",\".\",\"s\",\"'\", \" \"]"
   ]
  },
  {
   "cell_type": "code",
   "execution_count": 2,
   "metadata": {},
   "outputs": [],
   "source": [
    "def strip_characters(string):\n",
    "    for char in bad_chars:\n",
    "        string = string.replace(char,\"\")\n",
    "    return string"
   ]
  },
  {
   "cell_type": "code",
   "execution_count": 3,
   "metadata": {},
   "outputs": [],
   "source": [
    "stripped_test_data = ['1912', '1929', '1913-1923',\n",
    "                      '1951', '1994', '1934',\n",
    "                      '1915', '1995', '1912',\n",
    "                      '1988', '2002', '1957-1959',\n",
    "                      '1955', '1970', '1990-1999']"
   ]
  },
  {
   "cell_type": "code",
   "execution_count": 30,
   "metadata": {},
   "outputs": [],
   "source": [
    "def process_date(string):\n",
    "    if '-' in string:\n",
    "        date = string.split('-')\n",
    "        for d in date:\n",
    "            d = int(d)\n",
    "            print(d)\n",
    "        return date\n",
    "    else:\n",
    "        date = int(string)\n",
    "        print(date)\n",
    "        return date"
   ]
  },
  {
   "cell_type": "code",
   "execution_count": 31,
   "metadata": {},
   "outputs": [
    {
     "name": "stdout",
     "output_type": "stream",
     "text": [
      "1912\n",
      "1929\n",
      "1913\n",
      "1923\n",
      "1951\n",
      "1994\n",
      "1934\n",
      "1915\n",
      "1995\n",
      "1912\n",
      "1988\n",
      "2002\n",
      "1957\n",
      "1959\n",
      "1955\n",
      "1970\n",
      "1990\n",
      "1999\n"
     ]
    }
   ],
   "source": [
    "for d in stripped_test_data:\n",
    "    process_date(d)"
   ]
  },
  {
   "cell_type": "code",
   "execution_count": 18,
   "metadata": {},
   "outputs": [
    {
     "data": {
      "text/plain": [
       "['1990', '1999']"
      ]
     },
     "execution_count": 18,
     "metadata": {},
     "output_type": "execute_result"
    }
   ],
   "source": [
    "test = '1990-1999'\n",
    "process_date(test)"
   ]
  },
  {
   "cell_type": "code",
   "execution_count": null,
   "metadata": {},
   "outputs": [],
   "source": []
  },
  {
   "cell_type": "code",
   "execution_count": null,
   "metadata": {},
   "outputs": [],
   "source": []
  }
 ],
 "metadata": {
  "kernelspec": {
   "display_name": "Python 3",
   "language": "python",
   "name": "python3"
  },
  "language_info": {
   "codemirror_mode": {
    "name": "ipython",
    "version": 3
   },
   "file_extension": ".py",
   "mimetype": "text/x-python",
   "name": "python",
   "nbconvert_exporter": "python",
   "pygments_lexer": "ipython3",
   "version": "3.7.3"
  }
 },
 "nbformat": 4,
 "nbformat_minor": 2
}
