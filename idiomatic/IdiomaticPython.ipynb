{
 "cells": [
  {
   "cell_type": "markdown",
   "metadata": {},
   "source": [
    "<h2><span style='color:Blue'> Example 1 </span></h2>"
   ]
  },
  {
   "cell_type": "code",
   "execution_count": 3,
   "metadata": {},
   "outputs": [],
   "source": [
    "colors = ['red', 'green', 'blue', 'yellow']"
   ]
  },
  {
   "cell_type": "code",
   "execution_count": 8,
   "metadata": {
    "scrolled": true
   },
   "outputs": [
    {
     "name": "stdout",
     "output_type": "stream",
     "text": [
      "red\n"
     ]
    }
   ],
   "source": [
    "print(colors[-4])"
   ]
  },
  {
   "cell_type": "markdown",
   "metadata": {},
   "source": [
    "### Regular Way"
   ]
  },
  {
   "cell_type": "code",
   "execution_count": 20,
   "metadata": {},
   "outputs": [
    {
     "name": "stdout",
     "output_type": "stream",
     "text": [
      "red\n",
      "green\n",
      "blue\n",
      "yellow\n"
     ]
    }
   ],
   "source": [
    "for i in range(len(colors)):\n",
    "    print(colors[i])"
   ]
  },
  {
   "cell_type": "code",
   "execution_count": 21,
   "metadata": {
    "scrolled": true
   },
   "outputs": [
    {
     "name": "stdout",
     "output_type": "stream",
     "text": [
      "yellow\n",
      "blue\n",
      "green\n",
      "red\n"
     ]
    }
   ],
   "source": [
    "for i in range(len(colors)-1, -1, -1):\n",
    "    print(colors[i])"
   ]
  },
  {
   "cell_type": "markdown",
   "metadata": {},
   "source": [
    "### Python Way"
   ]
  },
  {
   "cell_type": "code",
   "execution_count": 22,
   "metadata": {},
   "outputs": [
    {
     "name": "stdout",
     "output_type": "stream",
     "text": [
      "yellow\n",
      "blue\n",
      "green\n",
      "red\n"
     ]
    }
   ],
   "source": [
    "for color in reversed(colors):\n",
    "    print(color)"
   ]
  },
  {
   "cell_type": "markdown",
   "metadata": {},
   "source": [
    "### Regular Way"
   ]
  },
  {
   "cell_type": "code",
   "execution_count": 23,
   "metadata": {
    "scrolled": true
   },
   "outputs": [
    {
     "name": "stdout",
     "output_type": "stream",
     "text": [
      "0 --> red\n",
      "1 --> green\n",
      "2 --> blue\n",
      "3 --> yellow\n"
     ]
    }
   ],
   "source": [
    "for i in range(len(colors)):\n",
    "    print(i, '-->', colors[i])"
   ]
  },
  {
   "cell_type": "markdown",
   "metadata": {},
   "source": [
    "### Python Way"
   ]
  },
  {
   "cell_type": "code",
   "execution_count": 24,
   "metadata": {
    "scrolled": true
   },
   "outputs": [
    {
     "name": "stdout",
     "output_type": "stream",
     "text": [
      "0 --> red\n",
      "1 --> green\n",
      "2 --> blue\n",
      "3 --> yellow\n"
     ]
    }
   ],
   "source": [
    "for i, color in enumerate(colors):\n",
    "    print(i, '-->', colors[i])"
   ]
  },
  {
   "cell_type": "markdown",
   "metadata": {},
   "source": [
    "<h2><span style='color:Blue'> Example 2 </span></h2>"
   ]
  },
  {
   "cell_type": "code",
   "execution_count": 25,
   "metadata": {},
   "outputs": [],
   "source": [
    "names = ['raymod', 'rachel', 'mattew']\n",
    "colors = ['red', 'green', 'blue', 'yellow']"
   ]
  },
  {
   "cell_type": "markdown",
   "metadata": {},
   "source": [
    "### Regular Way"
   ]
  },
  {
   "cell_type": "code",
   "execution_count": 26,
   "metadata": {},
   "outputs": [
    {
     "name": "stdout",
     "output_type": "stream",
     "text": [
      "raymod --> red\n",
      "rachel --> green\n",
      "mattew --> blue\n"
     ]
    }
   ],
   "source": [
    "n = min(len(names), len(colors))\n",
    "for i in range(n):\n",
    "    print(names[i], '-->', colors[i])"
   ]
  },
  {
   "cell_type": "markdown",
   "metadata": {},
   "source": [
    "### Python Way"
   ]
  },
  {
   "cell_type": "code",
   "execution_count": 27,
   "metadata": {},
   "outputs": [
    {
     "name": "stdout",
     "output_type": "stream",
     "text": [
      "raymod --> red\n",
      "rachel --> green\n",
      "mattew --> blue\n"
     ]
    }
   ],
   "source": [
    "for name, color, in zip(names, colors):\n",
    "    print(name, '-->', color)"
   ]
  },
  {
   "cell_type": "code",
   "execution_count": 28,
   "metadata": {},
   "outputs": [
    {
     "name": "stdout",
     "output_type": "stream",
     "text": [
      "blue\n",
      "green\n",
      "red\n",
      "yellow\n"
     ]
    }
   ],
   "source": [
    "for color in sorted(colors):\n",
    "    print(color)"
   ]
  },
  {
   "cell_type": "code",
   "execution_count": 31,
   "metadata": {},
   "outputs": [
    {
     "name": "stdout",
     "output_type": "stream",
     "text": [
      "yellow\n",
      "red\n",
      "green\n",
      "blue\n"
     ]
    }
   ],
   "source": [
    "for color in sorted(colors, reverse=True):\n",
    "    print(color)"
   ]
  },
  {
   "cell_type": "code",
   "execution_count": 34,
   "metadata": {},
   "outputs": [
    {
     "name": "stdout",
     "output_type": "stream",
     "text": [
      "['red', 'blue', 'green', 'yellow']\n"
     ]
    }
   ],
   "source": [
    "print(sorted(colors, key=len))"
   ]
  },
  {
   "cell_type": "code",
   "execution_count": 35,
   "metadata": {
    "scrolled": false
   },
   "outputs": [
    {
     "name": "stdout",
     "output_type": "stream",
     "text": [
      "['yellow', 'green', 'blue', 'red']\n"
     ]
    }
   ],
   "source": [
    "print(sorted(colors, key=len, reverse=True))"
   ]
  },
  {
   "cell_type": "markdown",
   "metadata": {},
   "source": [
    "<h2><span style='color:Blue'> Example 3 </span></h2>"
   ]
  },
  {
   "cell_type": "code",
   "execution_count": 42,
   "metadata": {},
   "outputs": [],
   "source": [
    "# Looping over a dictionary key\n",
    "d = {'matthew': 'blue', 'rachel': 'green', 'raymond':'red'}"
   ]
  },
  {
   "cell_type": "markdown",
   "metadata": {},
   "source": [
    "### Regular Way"
   ]
  },
  {
   "cell_type": "code",
   "execution_count": 43,
   "metadata": {},
   "outputs": [
    {
     "name": "stdout",
     "output_type": "stream",
     "text": [
      "matthew\n",
      "rachel\n",
      "raymond\n"
     ]
    }
   ],
   "source": [
    "for k in d:\n",
    "    print(k)"
   ]
  },
  {
   "cell_type": "code",
   "execution_count": 44,
   "metadata": {
    "scrolled": true
   },
   "outputs": [
    {
     "name": "stdout",
     "output_type": "stream",
     "text": [
      "matthew --> blue\n",
      "rachel --> green\n",
      "raymond --> red\n"
     ]
    }
   ],
   "source": [
    "for k in d:\n",
    "    print(k, '-->', d[k])"
   ]
  },
  {
   "cell_type": "code",
   "execution_count": 51,
   "metadata": {},
   "outputs": [],
   "source": [
    "# Construct a dictionary from pairs\n",
    "names = {'raymod', 'rachel', 'matthew'}\n",
    "colors = {'red', 'green', 'blue'}"
   ]
  },
  {
   "cell_type": "markdown",
   "metadata": {},
   "source": [
    "### Python Way"
   ]
  },
  {
   "cell_type": "code",
   "execution_count": 53,
   "metadata": {},
   "outputs": [
    {
     "name": "stdout",
     "output_type": "stream",
     "text": [
      "{'matthew': 'blue', 'rachel': 'red', 'raymod': 'green'}\n"
     ]
    }
   ],
   "source": [
    "d = dict(zip(names, colors))\n",
    "print(d)"
   ]
  },
  {
   "cell_type": "code",
   "execution_count": 56,
   "metadata": {},
   "outputs": [
    {
     "name": "stdout",
     "output_type": "stream",
     "text": [
      "{'blue': 1, 'red': 1, 'green': 1}\n"
     ]
    }
   ],
   "source": [
    "# Counting with dictionaries\n",
    "colors = {'red', 'green', 'red', 'blue', 'green', 'red'}\n",
    "d = {}\n",
    "for color in colors:\n",
    "    d[color] = d.get(color, 0) + 1\n",
    "print(d)"
   ]
  },
  {
   "cell_type": "markdown",
   "metadata": {},
   "source": [
    "<h2><span style='color:Blue'> Example 4 </span></h2>"
   ]
  },
  {
   "cell_type": "markdown",
   "metadata": {},
   "source": [
    "### Regular Way"
   ]
  },
  {
   "cell_type": "code",
   "execution_count": 1,
   "metadata": {},
   "outputs": [
    {
     "name": "stdout",
     "output_type": "stream",
     "text": [
      "[0, 2, 4, 6, 8, 10, 12, 14, 16, 18]\n"
     ]
    }
   ],
   "source": [
    "list_1 = list()\n",
    "for element in range(20):\n",
    "  if not(element % 2): # If number is even\n",
    "    list_1.append(element)\n",
    "    \n",
    "print(list_1)"
   ]
  },
  {
   "cell_type": "code",
   "execution_count": 3,
   "metadata": {},
   "outputs": [
    {
     "name": "stdout",
     "output_type": "stream",
     "text": [
      "[0, 2, 4, 6, 8, 10, 12, 14, 16, 18]\n"
     ]
    }
   ],
   "source": [
    "# We may also employ a lambda function\n",
    "list_1 = list(filter(lambda element: not(element % 2), range(20)))\n",
    "print(list_1)"
   ]
  },
  {
   "cell_type": "markdown",
   "metadata": {},
   "source": [
    "### Python Way"
   ]
  },
  {
   "cell_type": "code",
   "execution_count": 4,
   "metadata": {},
   "outputs": [
    {
     "name": "stdout",
     "output_type": "stream",
     "text": [
      "[0, 2, 4, 6, 8, 10, 12, 14, 16, 18]\n"
     ]
    }
   ],
   "source": [
    "list_1 = [element for element in range(20) if not(element % 2)]\n",
    "print(list_1)"
   ]
  },
  {
   "cell_type": "markdown",
   "metadata": {},
   "source": [
    "### Regular Way"
   ]
  },
  {
   "cell_type": "code",
   "execution_count": 11,
   "metadata": {},
   "outputs": [
    {
     "name": "stdout",
     "output_type": "stream",
     "text": [
      "Index:  0 Value:  0\n",
      "Index:  1 Value:  1\n",
      "Index:  2 Value:  2\n",
      "Index:  3 Value:  3\n",
      "Index:  4 Value:  4\n",
      "Index:  5 Value:  5\n",
      "Index:  6 Value:  6\n",
      "Index:  7 Value:  7\n",
      "Index:  8 Value:  8\n",
      "Index:  9 Value:  9\n",
      "Index:  10 Value:  10\n",
      "Index:  11 Value:  11\n",
      "Index:  12 Value:  12\n",
      "Index:  13 Value:  13\n",
      "Index:  14 Value:  14\n",
      "Index:  15 Value:  15\n",
      "Index:  16 Value:  16\n",
      "Index:  17 Value:  17\n",
      "Index:  18 Value:  18\n",
      "Index:  19 Value:  19\n"
     ]
    }
   ],
   "source": [
    "list_1 = list(range(20))\n",
    "index = 0\n",
    "while index < len(list_1):\n",
    "  print('Index: ',index,'Value: ',list_1[index])\n",
    "  index += 1"
   ]
  },
  {
   "cell_type": "markdown",
   "metadata": {},
   "source": [
    "### Python Way"
   ]
  },
  {
   "cell_type": "code",
   "execution_count": 7,
   "metadata": {
    "scrolled": true
   },
   "outputs": [
    {
     "name": "stdout",
     "output_type": "stream",
     "text": [
      "Index: 0, Value: 0\n",
      "Index: 1, Value: 1\n",
      "Index: 2, Value: 2\n",
      "Index: 3, Value: 3\n",
      "Index: 4, Value: 4\n",
      "Index: 5, Value: 5\n",
      "Index: 6, Value: 6\n",
      "Index: 7, Value: 7\n",
      "Index: 8, Value: 8\n",
      "Index: 9, Value: 9\n",
      "Index: 10, Value: 10\n",
      "Index: 11, Value: 11\n",
      "Index: 12, Value: 12\n",
      "Index: 13, Value: 13\n",
      "Index: 14, Value: 14\n",
      "Index: 15, Value: 15\n",
      "Index: 16, Value: 16\n",
      "Index: 17, Value: 17\n",
      "Index: 18, Value: 18\n",
      "Index: 19, Value: 19\n"
     ]
    }
   ],
   "source": [
    "# We can use enumerate method to list\n",
    "list_1 = list(range(20))\n",
    "for index, value in enumerate(list_1):\n",
    "    # Use format for cleaner code\n",
    "    print('Index: {}, Value: {}'.format(value, index)) "
   ]
  },
  {
   "cell_type": "markdown",
   "metadata": {},
   "source": [
    "<h2><span style='color:Blue'> Example 5 </span></h2>"
   ]
  },
  {
   "cell_type": "code",
   "execution_count": 31,
   "metadata": {},
   "outputs": [],
   "source": [
    "list_1 = [1, 2, 3, 4]\n",
    "list_2 = [4, 5, 6, 7]"
   ]
  },
  {
   "cell_type": "markdown",
   "metadata": {},
   "source": [
    "### Regular Way"
   ]
  },
  {
   "cell_type": "code",
   "execution_count": 32,
   "metadata": {},
   "outputs": [
    {
     "name": "stdout",
     "output_type": "stream",
     "text": [
      "[4]\n"
     ]
    }
   ],
   "source": [
    "list_1_and_2 = []\n",
    "for element in list_1:\n",
    "    if element in list_2:\n",
    "        list_1_and_2.append(element)\n",
    "print(list_1_and_2)"
   ]
  },
  {
   "cell_type": "markdown",
   "metadata": {},
   "source": [
    "### Python Way"
   ]
  },
  {
   "cell_type": "code",
   "execution_count": 33,
   "metadata": {},
   "outputs": [
    {
     "name": "stdout",
     "output_type": "stream",
     "text": [
      "[4]\n"
     ]
    }
   ],
   "source": [
    "# Using set\n",
    "list_1_and_2 = list(set(list_1) & set(list_2)) \n",
    "print(list_1_and_2### Regular Way)"
   ]
  },
  {
   "cell_type": "markdown",
   "metadata": {},
   "source": [
    "### Regular Way"
   ]
  },
  {
   "cell_type": "code",
   "execution_count": 36,
   "metadata": {},
   "outputs": [
    {
     "name": "stdout",
     "output_type": "stream",
     "text": [
      "{1, 2, 3, 4, 5, 6, 7, 8, 9}\n"
     ]
    }
   ],
   "source": [
    "elements = [1, 3, 5, 6, 7, 9, 2, 7, 8, 4, 2, 1, 9]\n",
    "unique_elements = set()\n",
    "\n",
    "for element in elements:\n",
    "    unique_elements.add(element)\n",
    "print(unique_elements)    "
   ]
  },
  {
   "cell_type": "markdown",
   "metadata": {},
   "source": [
    "### Python Way"
   ]
  },
  {
   "cell_type": "code",
   "execution_count": 37,
   "metadata": {},
   "outputs": [
    {
     "name": "stdout",
     "output_type": "stream",
     "text": [
      "{1, 2, 3, 4, 5, 6, 7, 8, 9}\n"
     ]
    }
   ],
   "source": [
    "elements = [1, 3, 5, 6, 7, 9, 2, 7, 8, 4, 2, 1, 9]\n",
    "\n",
    "unique_elements = {element for element in elements}\n",
    "print(unique_elements)"
   ]
  },
  {
   "cell_type": "markdown",
   "metadata": {},
   "source": [
    "### Regular Way"
   ]
  },
  {
   "cell_type": "code",
   "execution_count": 39,
   "metadata": {},
   "outputs": [
    {
     "name": "stdout",
     "output_type": "stream",
     "text": [
      "------------------------------\n",
      "email\n",
      "------------------------------\n"
     ]
    }
   ],
   "source": [
    "if user:\n",
    "  print('------------------------------')\n",
    "  print(user)\n",
    "  print('------------------------------')"
   ]
  },
  {
   "cell_type": "markdown",
   "metadata": {},
   "source": [
    "### Python Way"
   ]
  },
  {
   "cell_type": "code",
   "execution_count": 40,
   "metadata": {},
   "outputs": [
    {
     "name": "stdout",
     "output_type": "stream",
     "text": [
      "------------------------------\n",
      "email\n",
      "------------------------------\n"
     ]
    }
   ],
   "source": [
    "if user:\n",
    "  print('{0}\\n{1}\\n{0}'.format('-'*30, user))"
   ]
  },
  {
   "cell_type": "code",
   "execution_count": null,
   "metadata": {},
   "outputs": [],
   "source": []
  }
 ],
 "metadata": {
  "kernelspec": {
   "display_name": "Python 3",
   "language": "python",
   "name": "python3"
  },
  "language_info": {
   "codemirror_mode": {
    "name": "ipython",
    "version": 3
   },
   "file_extension": ".py",
   "mimetype": "text/x-python",
   "name": "python",
   "nbconvert_exporter": "python",
   "pygments_lexer": "ipython3",
   "version": "3.7.4"
  }
 },
 "nbformat": 4,
 "nbformat_minor": 2
}
